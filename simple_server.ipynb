{
 "cells": [
  {
   "cell_type": "code",
   "execution_count": 7,
   "id": "d0cbc79b-b78f-4f7c-b10d-5fe76ea90cb2",
   "metadata": {},
   "outputs": [],
   "source": [
    "from flask import Flask, request, jsonify\n",
    "import pandas as pd\n",
    "import dill"
   ]
  },
  {
   "cell_type": "code",
   "execution_count": 8,
   "id": "caefdfdb-b084-44b6-a30f-d6e6ad412949",
   "metadata": {},
   "outputs": [],
   "source": [
    "with open('pipeline.dill', 'rb') as in_strm:\n",
    "    model = dill.load(in_strm)"
   ]
  },
  {
   "cell_type": "code",
   "execution_count": 9,
   "id": "e5976a43-5a6e-4564-b6e5-996ef7e61cf0",
   "metadata": {},
   "outputs": [],
   "source": [
    "X_test = pd.read_csv('X_test.csv')\n",
    "y_test = pd.read_csv('y_test.csv')"
   ]
  },
  {
   "cell_type": "code",
   "execution_count": 19,
   "id": "a5f58832-fd7e-4677-ad40-e96ef4cf0f54",
   "metadata": {},
   "outputs": [
    {
     "name": "stdout",
     "output_type": "stream",
     "text": [
      " * Serving Flask app '__main__'\n",
      " * Debug mode: off\n"
     ]
    },
    {
     "name": "stderr",
     "output_type": "stream",
     "text": [
      "WARNING: This is a development server. Do not use it in a production deployment. Use a production WSGI server instead.\n",
      " * Running on http://127.0.0.1:5000\n",
      "Press CTRL+C to quit\n",
      "127.0.0.1 - - [24/Sep/2024 01:32:35] \"POST /predict HTTP/1.1\" 200 -\n"
     ]
    },
    {
     "name": "stdout",
     "output_type": "stream",
     "text": [
      "OK\n"
     ]
    },
    {
     "name": "stderr",
     "output_type": "stream",
     "text": [
      "127.0.0.1 - - [24/Sep/2024 01:32:39] \"POST /predict HTTP/1.1\" 200 -\n"
     ]
    },
    {
     "name": "stdout",
     "output_type": "stream",
     "text": [
      "OK\n"
     ]
    }
   ],
   "source": [
    "app = Flask(__name__)\n",
    "\n",
    "@app.route(\"/\", methods=[\"GET\"])\n",
    "def hello():\n",
    "    return \"Welcome to prediction process.\"\n",
    "\n",
    "@app.route(\"/predict\", methods=[\"POST\"])\n",
    "def predict():\n",
    "    data = {\"success\": False}\n",
    "    gender, sport_weekly, BMI, glucose, diabetic, glucose_tolerance, insulin = 0, 0, 0, 0, 0, 0, 0\n",
    "    request_json = request.get_json()\n",
    "    if request_json[\"gender\"]:\n",
    "        gender = request_json[\"gender\"]\n",
    "    if request_json[\"sport_weekly\"]:\n",
    "        sport_weekly = request_json[\"sport_weekly\"]\n",
    "    if request_json[\"BMI\"]:\n",
    "        BMI = request_json[\"BMI\"]\n",
    "    if request_json[\"glucose\"]:\n",
    "        glucose = request_json[\"glucose\"]\n",
    "    if request_json[\"diabetic\"]:\n",
    "        diabetic = request_json[\"diabetic\"]\n",
    "    if request_json[\"glucose_tolerance\"]:\n",
    "        glucose_tolerance = request_json[\"glucose_tolerance\"]\n",
    "    if request_json[\"insulin\"]:\n",
    "        insulin = request_json[\"insulin\"]\n",
    "    preds = model.predict_proba(pd.DataFrame({\"gender\": [gender], \"sport_weekly\": [sport_weekly], \"BMI\": [BMI], \"glucose\": [glucose], \n",
    "                                              \"diabetic\": [diabetic], \"glucose_tolerance\": [glucose_tolerance], \"insulin\": [insulin]}))\n",
    "    data[\"predictions\"] = preds[:, 1][0]\n",
    "    data[\"sucess\"] = True\n",
    "    print(\"OK\")\n",
    "    return jsonify(data)\n",
    "\n",
    "if __name__ == '__main__':\n",
    "    app.run()"
   ]
  },
  {
   "cell_type": "code",
   "execution_count": null,
   "id": "5bc032a1-bde6-4a10-a0fa-e128951f0f76",
   "metadata": {},
   "outputs": [],
   "source": []
  }
 ],
 "metadata": {
  "kernelspec": {
   "display_name": "Python 3 (ipykernel)",
   "language": "python",
   "name": "python3"
  },
  "language_info": {
   "codemirror_mode": {
    "name": "ipython",
    "version": 3
   },
   "file_extension": ".py",
   "mimetype": "text/x-python",
   "name": "python",
   "nbconvert_exporter": "python",
   "pygments_lexer": "ipython3",
   "version": "3.11.9"
  }
 },
 "nbformat": 4,
 "nbformat_minor": 5
}
