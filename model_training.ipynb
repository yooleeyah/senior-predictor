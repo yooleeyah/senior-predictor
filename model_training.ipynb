{
 "cells": [
  {
   "cell_type": "code",
   "execution_count": 1,
   "id": "744fd07a-1e50-4545-84f7-d71b47479cf5",
   "metadata": {
    "id": "744fd07a-1e50-4545-84f7-d71b47479cf5"
   },
   "outputs": [],
   "source": [
    "import pandas as pd\n",
    "import dill\n",
    "import numpy as np\n",
    "from sklearn.model_selection import train_test_split\n",
    "from sklearn.base import BaseEstimator, TransformerMixin\n",
    "from sklearn.metrics import precision_score, recall_score, f1_score, precision_recall_curve\n",
    "from sklearn.preprocessing import StandardScaler\n",
    "from sklearn.pipeline import Pipeline, FeatureUnion\n",
    "from imblearn.over_sampling import SMOTE\n",
    "from sklearn.compose import ColumnTransformer, make_column_transformer\n",
    "from sklearn.tree import DecisionTreeClassifier\n",
    "from sklearn.ensemble import RandomForestClassifier"
   ]
  },
  {
   "cell_type": "code",
   "execution_count": 2,
   "id": "ab350536-2213-4920-b716-31b81e7be954",
   "metadata": {
    "colab": {
     "base_uri": "https://localhost:8080/",
     "height": 206
    },
    "id": "ab350536-2213-4920-b716-31b81e7be954",
    "outputId": "fceb3fd5-eb60-4d41-e532-7ed144cbbd14"
   },
   "outputs": [
    {
     "data": {
      "text/html": [
       "<div>\n",
       "<style scoped>\n",
       "    .dataframe tbody tr th:only-of-type {\n",
       "        vertical-align: middle;\n",
       "    }\n",
       "\n",
       "    .dataframe tbody tr th {\n",
       "        vertical-align: top;\n",
       "    }\n",
       "\n",
       "    .dataframe thead th {\n",
       "        text-align: right;\n",
       "    }\n",
       "</style>\n",
       "<table border=\"1\" class=\"dataframe\">\n",
       "  <thead>\n",
       "    <tr style=\"text-align: right;\">\n",
       "      <th></th>\n",
       "      <th>SEQN</th>\n",
       "      <th>age_group</th>\n",
       "      <th>RIDAGEYR</th>\n",
       "      <th>RIAGENDR</th>\n",
       "      <th>PAQ605</th>\n",
       "      <th>BMXBMI</th>\n",
       "      <th>LBXGLU</th>\n",
       "      <th>DIQ010</th>\n",
       "      <th>LBXGLT</th>\n",
       "      <th>LBXIN</th>\n",
       "    </tr>\n",
       "  </thead>\n",
       "  <tbody>\n",
       "    <tr>\n",
       "      <th>199</th>\n",
       "      <td>74459.0</td>\n",
       "      <td>Adult</td>\n",
       "      <td>61.0</td>\n",
       "      <td>2.0</td>\n",
       "      <td>2.0</td>\n",
       "      <td>43.3</td>\n",
       "      <td>110.0</td>\n",
       "      <td>2.0</td>\n",
       "      <td>121.0</td>\n",
       "      <td>18.35</td>\n",
       "    </tr>\n",
       "    <tr>\n",
       "      <th>385</th>\n",
       "      <td>75349.0</td>\n",
       "      <td>Adult</td>\n",
       "      <td>54.0</td>\n",
       "      <td>1.0</td>\n",
       "      <td>2.0</td>\n",
       "      <td>24.5</td>\n",
       "      <td>98.0</td>\n",
       "      <td>2.0</td>\n",
       "      <td>81.0</td>\n",
       "      <td>15.20</td>\n",
       "    </tr>\n",
       "    <tr>\n",
       "      <th>506</th>\n",
       "      <td>75890.0</td>\n",
       "      <td>Adult</td>\n",
       "      <td>43.0</td>\n",
       "      <td>2.0</td>\n",
       "      <td>2.0</td>\n",
       "      <td>31.3</td>\n",
       "      <td>99.0</td>\n",
       "      <td>2.0</td>\n",
       "      <td>110.0</td>\n",
       "      <td>20.14</td>\n",
       "    </tr>\n",
       "    <tr>\n",
       "      <th>132</th>\n",
       "      <td>74191.0</td>\n",
       "      <td>Adult</td>\n",
       "      <td>39.0</td>\n",
       "      <td>2.0</td>\n",
       "      <td>1.0</td>\n",
       "      <td>27.3</td>\n",
       "      <td>91.0</td>\n",
       "      <td>2.0</td>\n",
       "      <td>90.0</td>\n",
       "      <td>4.62</td>\n",
       "    </tr>\n",
       "    <tr>\n",
       "      <th>1682</th>\n",
       "      <td>81101.0</td>\n",
       "      <td>Adult</td>\n",
       "      <td>38.0</td>\n",
       "      <td>2.0</td>\n",
       "      <td>2.0</td>\n",
       "      <td>30.7</td>\n",
       "      <td>100.0</td>\n",
       "      <td>2.0</td>\n",
       "      <td>161.0</td>\n",
       "      <td>19.12</td>\n",
       "    </tr>\n",
       "  </tbody>\n",
       "</table>\n",
       "</div>"
      ],
      "text/plain": [
       "         SEQN age_group  RIDAGEYR  RIAGENDR  PAQ605  BMXBMI  LBXGLU  DIQ010  \\\n",
       "199   74459.0     Adult      61.0       2.0     2.0    43.3   110.0     2.0   \n",
       "385   75349.0     Adult      54.0       1.0     2.0    24.5    98.0     2.0   \n",
       "506   75890.0     Adult      43.0       2.0     2.0    31.3    99.0     2.0   \n",
       "132   74191.0     Adult      39.0       2.0     1.0    27.3    91.0     2.0   \n",
       "1682  81101.0     Adult      38.0       2.0     2.0    30.7   100.0     2.0   \n",
       "\n",
       "      LBXGLT  LBXIN  \n",
       "199    121.0  18.35  \n",
       "385     81.0  15.20  \n",
       "506    110.0  20.14  \n",
       "132     90.0   4.62  \n",
       "1682   161.0  19.12  "
      ]
     },
     "execution_count": 2,
     "metadata": {},
     "output_type": "execute_result"
    }
   ],
   "source": [
    "df = pd.read_csv(\"NHANES_age_prediction.csv\")\n",
    "df.sample(5)"
   ]
  },
  {
   "cell_type": "code",
   "execution_count": 3,
   "id": "e9e1ccda-1f32-48be-9550-5a29904b5be9",
   "metadata": {
    "id": "e9e1ccda-1f32-48be-9550-5a29904b5be9"
   },
   "outputs": [],
   "source": [
    "df.rename(columns={\"SEQN\": \"resp_id\", \"RIDAGEYR\": \"age\",\n",
    "                   \"RIAGENDR\": \"gender\", \"PAQ605\": \"sport_weekly\",\n",
    "                   \"BMXBMI\": \"BMI\", \"LBXGLU\": \"glucose\",\n",
    "                   \"DIQ010\": \"diabetic\", \"LBXGLT\": \"glucose_tolerance\",\n",
    "                   \"LBXIN\": \"insulin\"}, inplace=True)"
   ]
  },
  {
   "cell_type": "code",
   "execution_count": 4,
   "id": "2a1f7bb3-af9d-4313-ba3e-ab12ef00d28f",
   "metadata": {
    "colab": {
     "base_uri": "https://localhost:8080/",
     "height": 206
    },
    "id": "2a1f7bb3-af9d-4313-ba3e-ab12ef00d28f",
    "outputId": "9a92bea6-dba1-4a47-eff3-dff7e46edd2b"
   },
   "outputs": [
    {
     "data": {
      "text/html": [
       "<div>\n",
       "<style scoped>\n",
       "    .dataframe tbody tr th:only-of-type {\n",
       "        vertical-align: middle;\n",
       "    }\n",
       "\n",
       "    .dataframe tbody tr th {\n",
       "        vertical-align: top;\n",
       "    }\n",
       "\n",
       "    .dataframe thead th {\n",
       "        text-align: right;\n",
       "    }\n",
       "</style>\n",
       "<table border=\"1\" class=\"dataframe\">\n",
       "  <thead>\n",
       "    <tr style=\"text-align: right;\">\n",
       "      <th></th>\n",
       "      <th>resp_id</th>\n",
       "      <th>age_group</th>\n",
       "      <th>age</th>\n",
       "      <th>gender</th>\n",
       "      <th>sport_weekly</th>\n",
       "      <th>BMI</th>\n",
       "      <th>glucose</th>\n",
       "      <th>diabetic</th>\n",
       "      <th>glucose_tolerance</th>\n",
       "      <th>insulin</th>\n",
       "    </tr>\n",
       "  </thead>\n",
       "  <tbody>\n",
       "    <tr>\n",
       "      <th>1497</th>\n",
       "      <td>80356.0</td>\n",
       "      <td>Adult</td>\n",
       "      <td>12.0</td>\n",
       "      <td>1.0</td>\n",
       "      <td>2.0</td>\n",
       "      <td>19.9</td>\n",
       "      <td>98.0</td>\n",
       "      <td>2.0</td>\n",
       "      <td>97.0</td>\n",
       "      <td>11.32</td>\n",
       "    </tr>\n",
       "    <tr>\n",
       "      <th>1044</th>\n",
       "      <td>78305.0</td>\n",
       "      <td>Adult</td>\n",
       "      <td>43.0</td>\n",
       "      <td>2.0</td>\n",
       "      <td>2.0</td>\n",
       "      <td>32.5</td>\n",
       "      <td>92.0</td>\n",
       "      <td>2.0</td>\n",
       "      <td>83.0</td>\n",
       "      <td>12.31</td>\n",
       "    </tr>\n",
       "    <tr>\n",
       "      <th>1112</th>\n",
       "      <td>78634.0</td>\n",
       "      <td>Adult</td>\n",
       "      <td>55.0</td>\n",
       "      <td>2.0</td>\n",
       "      <td>2.0</td>\n",
       "      <td>48.4</td>\n",
       "      <td>108.0</td>\n",
       "      <td>2.0</td>\n",
       "      <td>183.0</td>\n",
       "      <td>29.80</td>\n",
       "    </tr>\n",
       "    <tr>\n",
       "      <th>1857</th>\n",
       "      <td>81883.0</td>\n",
       "      <td>Adult</td>\n",
       "      <td>19.0</td>\n",
       "      <td>1.0</td>\n",
       "      <td>2.0</td>\n",
       "      <td>29.1</td>\n",
       "      <td>92.0</td>\n",
       "      <td>2.0</td>\n",
       "      <td>92.0</td>\n",
       "      <td>11.97</td>\n",
       "    </tr>\n",
       "    <tr>\n",
       "      <th>1192</th>\n",
       "      <td>79000.0</td>\n",
       "      <td>Adult</td>\n",
       "      <td>36.0</td>\n",
       "      <td>1.0</td>\n",
       "      <td>1.0</td>\n",
       "      <td>26.8</td>\n",
       "      <td>122.0</td>\n",
       "      <td>2.0</td>\n",
       "      <td>120.0</td>\n",
       "      <td>15.27</td>\n",
       "    </tr>\n",
       "  </tbody>\n",
       "</table>\n",
       "</div>"
      ],
      "text/plain": [
       "      resp_id age_group   age  gender  sport_weekly   BMI  glucose  diabetic  \\\n",
       "1497  80356.0     Adult  12.0     1.0           2.0  19.9     98.0       2.0   \n",
       "1044  78305.0     Adult  43.0     2.0           2.0  32.5     92.0       2.0   \n",
       "1112  78634.0     Adult  55.0     2.0           2.0  48.4    108.0       2.0   \n",
       "1857  81883.0     Adult  19.0     1.0           2.0  29.1     92.0       2.0   \n",
       "1192  79000.0     Adult  36.0     1.0           1.0  26.8    122.0       2.0   \n",
       "\n",
       "      glucose_tolerance  insulin  \n",
       "1497               97.0    11.32  \n",
       "1044               83.0    12.31  \n",
       "1112              183.0    29.80  \n",
       "1857               92.0    11.97  \n",
       "1192              120.0    15.27  "
      ]
     },
     "execution_count": 4,
     "metadata": {},
     "output_type": "execute_result"
    }
   ],
   "source": [
    "df.sample(5)"
   ]
  },
  {
   "cell_type": "markdown",
   "id": "e01b306d-da77-4875-996e-4ed428c9434d",
   "metadata": {
    "id": "e01b306d-da77-4875-996e-4ed428c9434d"
   },
   "source": [
    "* resp_id\t- порядковый номер респондента\n",
    "* age_group\t- таргет - возрастная группа: взрослый(<65) / пожилой(>=65)\n",
    "* age\t- возраст\n",
    "* gender - гендер\n",
    "* sport_weekly - занимается ли респондент спортом, фитнесом или пр. мероприятиями обычно в течение недели\n",
    "* BMI\t- индекс массы тела\n",
    "* glucose\t- уровень глюкозы в крови натощак\n",
    "* diabetic - есть ли у респондента диабет\n",
    "* glucose_tolerance\t- результаты теста на толерантность к глюкозе (OGTT)\n",
    "* insulin - уровень инсулина в крови\n",
    "\n",
    "Задача: определить возрастную категорию age_group респондента  (взрослый/пожилой) на основании всех признаков, кроме age."
   ]
  },
  {
   "cell_type": "code",
   "execution_count": 5,
   "id": "1a2021ac-17c9-4f2a-924d-aaedf30858c1",
   "metadata": {
    "id": "1a2021ac-17c9-4f2a-924d-aaedf30858c1"
   },
   "outputs": [],
   "source": [
    "df['age_group'] = df['age_group'].apply(lambda x: 1 if 'Senior' in x else 0)\n",
    "df['sport_weekly'] = df['sport_weekly'].apply(lambda x: 2 if x>2 else x)\n",
    "df['diabetic'] = df['diabetic'].apply(lambda x: np.random.choice([1, 2]) if x==3.0 else x)"
   ]
  },
  {
   "cell_type": "code",
   "execution_count": 6,
   "id": "9f22e923-3c83-405a-935d-50094080bfff",
   "metadata": {
    "id": "9f22e923-3c83-405a-935d-50094080bfff"
   },
   "outputs": [],
   "source": [
    "df['gender'] = df['gender'].astype(int)\n",
    "df['sport_weekly'] = df['sport_weekly'].astype(int)\n",
    "df['glucose'] = df['glucose'].astype(int)\n",
    "df['diabetic'] = df['diabetic'].astype(int)\n",
    "df['glucose_tolerance'] = df['glucose_tolerance'].astype(int)"
   ]
  },
  {
   "cell_type": "code",
   "execution_count": 7,
   "id": "e4ad3c46-8b6a-4a7a-98f6-7c2e3d44ffb9",
   "metadata": {
    "colab": {
     "base_uri": "https://localhost:8080/",
     "height": 206
    },
    "id": "e4ad3c46-8b6a-4a7a-98f6-7c2e3d44ffb9",
    "outputId": "0217c776-d6fe-46e7-caa5-74ab56d54132"
   },
   "outputs": [
    {
     "data": {
      "text/html": [
       "<div>\n",
       "<style scoped>\n",
       "    .dataframe tbody tr th:only-of-type {\n",
       "        vertical-align: middle;\n",
       "    }\n",
       "\n",
       "    .dataframe tbody tr th {\n",
       "        vertical-align: top;\n",
       "    }\n",
       "\n",
       "    .dataframe thead th {\n",
       "        text-align: right;\n",
       "    }\n",
       "</style>\n",
       "<table border=\"1\" class=\"dataframe\">\n",
       "  <thead>\n",
       "    <tr style=\"text-align: right;\">\n",
       "      <th></th>\n",
       "      <th>resp_id</th>\n",
       "      <th>age_group</th>\n",
       "      <th>age</th>\n",
       "      <th>gender</th>\n",
       "      <th>sport_weekly</th>\n",
       "      <th>BMI</th>\n",
       "      <th>glucose</th>\n",
       "      <th>diabetic</th>\n",
       "      <th>glucose_tolerance</th>\n",
       "      <th>insulin</th>\n",
       "    </tr>\n",
       "  </thead>\n",
       "  <tbody>\n",
       "    <tr>\n",
       "      <th>2253</th>\n",
       "      <td>83624.0</td>\n",
       "      <td>0</td>\n",
       "      <td>50.0</td>\n",
       "      <td>2</td>\n",
       "      <td>2</td>\n",
       "      <td>34.3</td>\n",
       "      <td>333</td>\n",
       "      <td>2</td>\n",
       "      <td>510</td>\n",
       "      <td>21.87</td>\n",
       "    </tr>\n",
       "    <tr>\n",
       "      <th>162</th>\n",
       "      <td>74304.0</td>\n",
       "      <td>1</td>\n",
       "      <td>80.0</td>\n",
       "      <td>1</td>\n",
       "      <td>2</td>\n",
       "      <td>31.4</td>\n",
       "      <td>125</td>\n",
       "      <td>1</td>\n",
       "      <td>175</td>\n",
       "      <td>13.59</td>\n",
       "    </tr>\n",
       "    <tr>\n",
       "      <th>397</th>\n",
       "      <td>75393.0</td>\n",
       "      <td>0</td>\n",
       "      <td>30.0</td>\n",
       "      <td>2</td>\n",
       "      <td>1</td>\n",
       "      <td>31.8</td>\n",
       "      <td>100</td>\n",
       "      <td>2</td>\n",
       "      <td>106</td>\n",
       "      <td>7.73</td>\n",
       "    </tr>\n",
       "    <tr>\n",
       "      <th>13</th>\n",
       "      <td>73633.0</td>\n",
       "      <td>0</td>\n",
       "      <td>43.0</td>\n",
       "      <td>2</td>\n",
       "      <td>2</td>\n",
       "      <td>30.5</td>\n",
       "      <td>102</td>\n",
       "      <td>2</td>\n",
       "      <td>124</td>\n",
       "      <td>12.06</td>\n",
       "    </tr>\n",
       "    <tr>\n",
       "      <th>941</th>\n",
       "      <td>77788.0</td>\n",
       "      <td>0</td>\n",
       "      <td>21.0</td>\n",
       "      <td>2</td>\n",
       "      <td>2</td>\n",
       "      <td>39.5</td>\n",
       "      <td>99</td>\n",
       "      <td>2</td>\n",
       "      <td>96</td>\n",
       "      <td>25.96</td>\n",
       "    </tr>\n",
       "  </tbody>\n",
       "</table>\n",
       "</div>"
      ],
      "text/plain": [
       "      resp_id  age_group   age  gender  sport_weekly   BMI  glucose  diabetic  \\\n",
       "2253  83624.0          0  50.0       2             2  34.3      333         2   \n",
       "162   74304.0          1  80.0       1             2  31.4      125         1   \n",
       "397   75393.0          0  30.0       2             1  31.8      100         2   \n",
       "13    73633.0          0  43.0       2             2  30.5      102         2   \n",
       "941   77788.0          0  21.0       2             2  39.5       99         2   \n",
       "\n",
       "      glucose_tolerance  insulin  \n",
       "2253                510    21.87  \n",
       "162                 175    13.59  \n",
       "397                 106     7.73  \n",
       "13                  124    12.06  \n",
       "941                  96    25.96  "
      ]
     },
     "execution_count": 7,
     "metadata": {},
     "output_type": "execute_result"
    }
   ],
   "source": [
    "df.sample(5)"
   ]
  },
  {
   "cell_type": "code",
   "execution_count": 8,
   "id": "d8651de7-b4cb-4944-ade5-fb1d8bf21eab",
   "metadata": {
    "colab": {
     "base_uri": "https://localhost:8080/"
    },
    "id": "d8651de7-b4cb-4944-ade5-fb1d8bf21eab",
    "outputId": "0ee01a10-8773-405b-8c15-97295c54da34"
   },
   "outputs": [
    {
     "data": {
      "text/plain": [
       "(2278, 10)"
      ]
     },
     "execution_count": 8,
     "metadata": {},
     "output_type": "execute_result"
    }
   ],
   "source": [
    "df.shape"
   ]
  },
  {
   "cell_type": "code",
   "execution_count": 9,
   "id": "32a46d9b-4503-4ba9-a27d-b0cd54f5ff31",
   "metadata": {
    "id": "32a46d9b-4503-4ba9-a27d-b0cd54f5ff31"
   },
   "outputs": [],
   "source": [
    "X = df.drop(['age_group', 'resp_id', 'age'], axis=1)\n",
    "y = df['age_group']"
   ]
  },
  {
   "cell_type": "code",
   "execution_count": 10,
   "id": "5cb35a85-af44-4945-b771-d2896c19ed6e",
   "metadata": {
    "colab": {
     "base_uri": "https://localhost:8080/",
     "height": 179
    },
    "id": "5cb35a85-af44-4945-b771-d2896c19ed6e",
    "outputId": "86ae5cdd-17e4-4e4c-9fb2-449428d8e828"
   },
   "outputs": [
    {
     "data": {
      "text/plain": [
       "age_group\n",
       "0    1914\n",
       "1     364\n",
       "Name: count, dtype: int64"
      ]
     },
     "execution_count": 10,
     "metadata": {},
     "output_type": "execute_result"
    }
   ],
   "source": [
    "y.value_counts()"
   ]
  },
  {
   "cell_type": "code",
   "execution_count": 11,
   "id": "4ff4e296-4603-48ee-afd8-04ff6926c414",
   "metadata": {
    "colab": {
     "base_uri": "https://localhost:8080/"
    },
    "id": "4ff4e296-4603-48ee-afd8-04ff6926c414",
    "outputId": "970d0e7c-e999-4a09-979a-2e75405cb3d5"
   },
   "outputs": [
    {
     "name": "stdout",
     "output_type": "stream",
     "text": [
      "(3828, 7)\n",
      "(3828,)\n"
     ]
    }
   ],
   "source": [
    "smote = SMOTE(sampling_strategy='auto', random_state=33)\n",
    "\n",
    "X, y = smote.fit_resample(X, y)\n",
    "\n",
    "print(X.shape)\n",
    "print(y.shape)"
   ]
  },
  {
   "cell_type": "code",
   "execution_count": 12,
   "id": "fcfe9607-cd3e-4ec8-9fbf-1c186e640fb1",
   "metadata": {
    "colab": {
     "base_uri": "https://localhost:8080/",
     "height": 179
    },
    "id": "fcfe9607-cd3e-4ec8-9fbf-1c186e640fb1",
    "outputId": "a54b3e2b-c3a6-4b41-cc81-9131dbe4bbbf"
   },
   "outputs": [
    {
     "data": {
      "text/plain": [
       "age_group\n",
       "0    1914\n",
       "1    1914\n",
       "Name: count, dtype: int64"
      ]
     },
     "execution_count": 12,
     "metadata": {},
     "output_type": "execute_result"
    }
   ],
   "source": [
    "y.value_counts()"
   ]
  },
  {
   "cell_type": "code",
   "execution_count": 13,
   "id": "61050b45-9103-4c2c-98f1-881d5fdf8762",
   "metadata": {
    "id": "61050b45-9103-4c2c-98f1-881d5fdf8762"
   },
   "outputs": [],
   "source": [
    "X_train, X_test, y_train, y_test = train_test_split(X, y, test_size=0.25, random_state=33, stratify=y)\n",
    "#save test\n",
    "X_test.to_csv(\"X_test.csv\", index=None)\n",
    "y_test.to_csv(\"y_test.csv\", index=None)\n",
    "#save train\n",
    "X_train.to_csv(\"X_train.csv\", index=None)\n",
    "y_train.to_csv(\"y_train.csv\", index=None)"
   ]
  },
  {
   "cell_type": "code",
   "execution_count": 14,
   "id": "a009c978-b18f-43da-a02c-af2a4363c8c9",
   "metadata": {
    "colab": {
     "base_uri": "https://localhost:8080/"
    },
    "id": "a009c978-b18f-43da-a02c-af2a4363c8c9",
    "outputId": "7166ce41-68b9-49ae-805f-73089a2f4530"
   },
   "outputs": [
    {
     "data": {
      "text/plain": [
       "((2871, 7), (2871,), (957, 7), (957,))"
      ]
     },
     "execution_count": 14,
     "metadata": {},
     "output_type": "execute_result"
    }
   ],
   "source": [
    "X_train.shape, y_train.shape, X_test.shape, y_test.shape"
   ]
  },
  {
   "cell_type": "code",
   "execution_count": 15,
   "id": "b55e0f40-44f5-40a6-bc00-c728b860c8c4",
   "metadata": {
    "colab": {
     "base_uri": "https://localhost:8080/",
     "height": 206
    },
    "id": "b55e0f40-44f5-40a6-bc00-c728b860c8c4",
    "outputId": "701f198e-dc60-4161-9bf0-8dec7c3067e5"
   },
   "outputs": [
    {
     "data": {
      "text/html": [
       "<div>\n",
       "<style scoped>\n",
       "    .dataframe tbody tr th:only-of-type {\n",
       "        vertical-align: middle;\n",
       "    }\n",
       "\n",
       "    .dataframe tbody tr th {\n",
       "        vertical-align: top;\n",
       "    }\n",
       "\n",
       "    .dataframe thead th {\n",
       "        text-align: right;\n",
       "    }\n",
       "</style>\n",
       "<table border=\"1\" class=\"dataframe\">\n",
       "  <thead>\n",
       "    <tr style=\"text-align: right;\">\n",
       "      <th></th>\n",
       "      <th>gender</th>\n",
       "      <th>sport_weekly</th>\n",
       "      <th>BMI</th>\n",
       "      <th>glucose</th>\n",
       "      <th>diabetic</th>\n",
       "      <th>glucose_tolerance</th>\n",
       "      <th>insulin</th>\n",
       "    </tr>\n",
       "  </thead>\n",
       "  <tbody>\n",
       "    <tr>\n",
       "      <th>3432</th>\n",
       "      <td>1</td>\n",
       "      <td>2</td>\n",
       "      <td>25.544553</td>\n",
       "      <td>92</td>\n",
       "      <td>2</td>\n",
       "      <td>115</td>\n",
       "      <td>15.387651</td>\n",
       "    </tr>\n",
       "    <tr>\n",
       "      <th>514</th>\n",
       "      <td>1</td>\n",
       "      <td>2</td>\n",
       "      <td>25.000000</td>\n",
       "      <td>99</td>\n",
       "      <td>2</td>\n",
       "      <td>134</td>\n",
       "      <td>6.890000</td>\n",
       "    </tr>\n",
       "    <tr>\n",
       "      <th>2186</th>\n",
       "      <td>2</td>\n",
       "      <td>2</td>\n",
       "      <td>21.400000</td>\n",
       "      <td>85</td>\n",
       "      <td>2</td>\n",
       "      <td>101</td>\n",
       "      <td>3.410000</td>\n",
       "    </tr>\n",
       "    <tr>\n",
       "      <th>1066</th>\n",
       "      <td>1</td>\n",
       "      <td>2</td>\n",
       "      <td>27.700000</td>\n",
       "      <td>100</td>\n",
       "      <td>2</td>\n",
       "      <td>83</td>\n",
       "      <td>13.360000</td>\n",
       "    </tr>\n",
       "    <tr>\n",
       "      <th>598</th>\n",
       "      <td>2</td>\n",
       "      <td>2</td>\n",
       "      <td>38.900000</td>\n",
       "      <td>102</td>\n",
       "      <td>2</td>\n",
       "      <td>113</td>\n",
       "      <td>12.190000</td>\n",
       "    </tr>\n",
       "  </tbody>\n",
       "</table>\n",
       "</div>"
      ],
      "text/plain": [
       "      gender  sport_weekly        BMI  glucose  diabetic  glucose_tolerance  \\\n",
       "3432       1             2  25.544553       92         2                115   \n",
       "514        1             2  25.000000       99         2                134   \n",
       "2186       2             2  21.400000       85         2                101   \n",
       "1066       1             2  27.700000      100         2                 83   \n",
       "598        2             2  38.900000      102         2                113   \n",
       "\n",
       "        insulin  \n",
       "3432  15.387651  \n",
       "514    6.890000  \n",
       "2186   3.410000  \n",
       "1066  13.360000  \n",
       "598   12.190000  "
      ]
     },
     "execution_count": 15,
     "metadata": {},
     "output_type": "execute_result"
    }
   ],
   "source": [
    "X_train.sample(5)"
   ]
  },
  {
   "cell_type": "code",
   "execution_count": 16,
   "id": "f782dc8d-b563-4411-8de0-a5d858c02e45",
   "metadata": {
    "id": "f782dc8d-b563-4411-8de0-a5d858c02e45"
   },
   "outputs": [],
   "source": [
    "class BinaryEncoder(BaseEstimator, TransformerMixin):\n",
    "    def __init__(self, key):\n",
    "        self.key = key\n",
    "\n",
    "    def fit(self, X, y=None):\n",
    "        return self\n",
    "\n",
    "    def transform(self, X):\n",
    "        X_transformed = X.copy()\n",
    "        X_transformed[self.key] = X_transformed[self.key].replace({1: 1, 2: 0})\n",
    "\n",
    "        return X_transformed"
   ]
  },
  {
   "cell_type": "code",
   "execution_count": 17,
   "id": "7e835f48-7600-4c86-8f38-788ae684615c",
   "metadata": {
    "id": "7e835f48-7600-4c86-8f38-788ae684615c"
   },
   "outputs": [],
   "source": [
    "continuos_cols = ['BMI', 'glucose', 'glucose_tolerance', 'insulin']\n",
    "cat_cols = ['gender', 'sport_weekly', 'diabetic']"
   ]
  },
  {
   "cell_type": "code",
   "execution_count": 18,
   "id": "cd25409a-e866-4e31-85d8-7b8eabe6f6b8",
   "metadata": {
    "id": "cd25409a-e866-4e31-85d8-7b8eabe6f6b8"
   },
   "outputs": [],
   "source": [
    "numeric_transformer = Pipeline(steps=[\n",
    "    ('scaler', StandardScaler())\n",
    "])\n",
    "\n",
    "categorical_transformer = Pipeline(steps=[\n",
    "    ('binenc', BinaryEncoder(key=cat_cols))\n",
    "])\n",
    "\n",
    "preprocessor = ColumnTransformer(\n",
    "    transformers=[\n",
    "        ('num', numeric_transformer, continuos_cols),\n",
    "        ('cat', categorical_transformer, cat_cols)\n",
    "    ]\n",
    ")"
   ]
  },
  {
   "cell_type": "code",
   "execution_count": 19,
   "id": "de4c084d-cd31-4587-a181-8fb514bf6e4c",
   "metadata": {
    "colab": {
     "base_uri": "https://localhost:8080/",
     "height": 281
    },
    "id": "de4c084d-cd31-4587-a181-8fb514bf6e4c",
    "outputId": "2906032e-9276-4b3c-be8e-f414de2bdf96"
   },
   "outputs": [
    {
     "name": "stdout",
     "output_type": "stream",
     "text": [
      "CPU times: total: 438 ms\n",
      "Wall time: 526 ms\n"
     ]
    },
    {
     "data": {
      "text/html": [
       "<style>#sk-container-id-1 {\n",
       "  /* Definition of color scheme common for light and dark mode */\n",
       "  --sklearn-color-text: black;\n",
       "  --sklearn-color-line: gray;\n",
       "  /* Definition of color scheme for unfitted estimators */\n",
       "  --sklearn-color-unfitted-level-0: #fff5e6;\n",
       "  --sklearn-color-unfitted-level-1: #f6e4d2;\n",
       "  --sklearn-color-unfitted-level-2: #ffe0b3;\n",
       "  --sklearn-color-unfitted-level-3: chocolate;\n",
       "  /* Definition of color scheme for fitted estimators */\n",
       "  --sklearn-color-fitted-level-0: #f0f8ff;\n",
       "  --sklearn-color-fitted-level-1: #d4ebff;\n",
       "  --sklearn-color-fitted-level-2: #b3dbfd;\n",
       "  --sklearn-color-fitted-level-3: cornflowerblue;\n",
       "\n",
       "  /* Specific color for light theme */\n",
       "  --sklearn-color-text-on-default-background: var(--sg-text-color, var(--theme-code-foreground, var(--jp-content-font-color1, black)));\n",
       "  --sklearn-color-background: var(--sg-background-color, var(--theme-background, var(--jp-layout-color0, white)));\n",
       "  --sklearn-color-border-box: var(--sg-text-color, var(--theme-code-foreground, var(--jp-content-font-color1, black)));\n",
       "  --sklearn-color-icon: #696969;\n",
       "\n",
       "  @media (prefers-color-scheme: dark) {\n",
       "    /* Redefinition of color scheme for dark theme */\n",
       "    --sklearn-color-text-on-default-background: var(--sg-text-color, var(--theme-code-foreground, var(--jp-content-font-color1, white)));\n",
       "    --sklearn-color-background: var(--sg-background-color, var(--theme-background, var(--jp-layout-color0, #111)));\n",
       "    --sklearn-color-border-box: var(--sg-text-color, var(--theme-code-foreground, var(--jp-content-font-color1, white)));\n",
       "    --sklearn-color-icon: #878787;\n",
       "  }\n",
       "}\n",
       "\n",
       "#sk-container-id-1 {\n",
       "  color: var(--sklearn-color-text);\n",
       "}\n",
       "\n",
       "#sk-container-id-1 pre {\n",
       "  padding: 0;\n",
       "}\n",
       "\n",
       "#sk-container-id-1 input.sk-hidden--visually {\n",
       "  border: 0;\n",
       "  clip: rect(1px 1px 1px 1px);\n",
       "  clip: rect(1px, 1px, 1px, 1px);\n",
       "  height: 1px;\n",
       "  margin: -1px;\n",
       "  overflow: hidden;\n",
       "  padding: 0;\n",
       "  position: absolute;\n",
       "  width: 1px;\n",
       "}\n",
       "\n",
       "#sk-container-id-1 div.sk-dashed-wrapped {\n",
       "  border: 1px dashed var(--sklearn-color-line);\n",
       "  margin: 0 0.4em 0.5em 0.4em;\n",
       "  box-sizing: border-box;\n",
       "  padding-bottom: 0.4em;\n",
       "  background-color: var(--sklearn-color-background);\n",
       "}\n",
       "\n",
       "#sk-container-id-1 div.sk-container {\n",
       "  /* jupyter's `normalize.less` sets `[hidden] { display: none; }`\n",
       "     but bootstrap.min.css set `[hidden] { display: none !important; }`\n",
       "     so we also need the `!important` here to be able to override the\n",
       "     default hidden behavior on the sphinx rendered scikit-learn.org.\n",
       "     See: https://github.com/scikit-learn/scikit-learn/issues/21755 */\n",
       "  display: inline-block !important;\n",
       "  position: relative;\n",
       "}\n",
       "\n",
       "#sk-container-id-1 div.sk-text-repr-fallback {\n",
       "  display: none;\n",
       "}\n",
       "\n",
       "div.sk-parallel-item,\n",
       "div.sk-serial,\n",
       "div.sk-item {\n",
       "  /* draw centered vertical line to link estimators */\n",
       "  background-image: linear-gradient(var(--sklearn-color-text-on-default-background), var(--sklearn-color-text-on-default-background));\n",
       "  background-size: 2px 100%;\n",
       "  background-repeat: no-repeat;\n",
       "  background-position: center center;\n",
       "}\n",
       "\n",
       "/* Parallel-specific style estimator block */\n",
       "\n",
       "#sk-container-id-1 div.sk-parallel-item::after {\n",
       "  content: \"\";\n",
       "  width: 100%;\n",
       "  border-bottom: 2px solid var(--sklearn-color-text-on-default-background);\n",
       "  flex-grow: 1;\n",
       "}\n",
       "\n",
       "#sk-container-id-1 div.sk-parallel {\n",
       "  display: flex;\n",
       "  align-items: stretch;\n",
       "  justify-content: center;\n",
       "  background-color: var(--sklearn-color-background);\n",
       "  position: relative;\n",
       "}\n",
       "\n",
       "#sk-container-id-1 div.sk-parallel-item {\n",
       "  display: flex;\n",
       "  flex-direction: column;\n",
       "}\n",
       "\n",
       "#sk-container-id-1 div.sk-parallel-item:first-child::after {\n",
       "  align-self: flex-end;\n",
       "  width: 50%;\n",
       "}\n",
       "\n",
       "#sk-container-id-1 div.sk-parallel-item:last-child::after {\n",
       "  align-self: flex-start;\n",
       "  width: 50%;\n",
       "}\n",
       "\n",
       "#sk-container-id-1 div.sk-parallel-item:only-child::after {\n",
       "  width: 0;\n",
       "}\n",
       "\n",
       "/* Serial-specific style estimator block */\n",
       "\n",
       "#sk-container-id-1 div.sk-serial {\n",
       "  display: flex;\n",
       "  flex-direction: column;\n",
       "  align-items: center;\n",
       "  background-color: var(--sklearn-color-background);\n",
       "  padding-right: 1em;\n",
       "  padding-left: 1em;\n",
       "}\n",
       "\n",
       "\n",
       "/* Toggleable style: style used for estimator/Pipeline/ColumnTransformer box that is\n",
       "clickable and can be expanded/collapsed.\n",
       "- Pipeline and ColumnTransformer use this feature and define the default style\n",
       "- Estimators will overwrite some part of the style using the `sk-estimator` class\n",
       "*/\n",
       "\n",
       "/* Pipeline and ColumnTransformer style (default) */\n",
       "\n",
       "#sk-container-id-1 div.sk-toggleable {\n",
       "  /* Default theme specific background. It is overwritten whether we have a\n",
       "  specific estimator or a Pipeline/ColumnTransformer */\n",
       "  background-color: var(--sklearn-color-background);\n",
       "}\n",
       "\n",
       "/* Toggleable label */\n",
       "#sk-container-id-1 label.sk-toggleable__label {\n",
       "  cursor: pointer;\n",
       "  display: block;\n",
       "  width: 100%;\n",
       "  margin-bottom: 0;\n",
       "  padding: 0.5em;\n",
       "  box-sizing: border-box;\n",
       "  text-align: center;\n",
       "}\n",
       "\n",
       "#sk-container-id-1 label.sk-toggleable__label-arrow:before {\n",
       "  /* Arrow on the left of the label */\n",
       "  content: \"▸\";\n",
       "  float: left;\n",
       "  margin-right: 0.25em;\n",
       "  color: var(--sklearn-color-icon);\n",
       "}\n",
       "\n",
       "#sk-container-id-1 label.sk-toggleable__label-arrow:hover:before {\n",
       "  color: var(--sklearn-color-text);\n",
       "}\n",
       "\n",
       "/* Toggleable content - dropdown */\n",
       "\n",
       "#sk-container-id-1 div.sk-toggleable__content {\n",
       "  max-height: 0;\n",
       "  max-width: 0;\n",
       "  overflow: hidden;\n",
       "  text-align: left;\n",
       "  /* unfitted */\n",
       "  background-color: var(--sklearn-color-unfitted-level-0);\n",
       "}\n",
       "\n",
       "#sk-container-id-1 div.sk-toggleable__content.fitted {\n",
       "  /* fitted */\n",
       "  background-color: var(--sklearn-color-fitted-level-0);\n",
       "}\n",
       "\n",
       "#sk-container-id-1 div.sk-toggleable__content pre {\n",
       "  margin: 0.2em;\n",
       "  border-radius: 0.25em;\n",
       "  color: var(--sklearn-color-text);\n",
       "  /* unfitted */\n",
       "  background-color: var(--sklearn-color-unfitted-level-0);\n",
       "}\n",
       "\n",
       "#sk-container-id-1 div.sk-toggleable__content.fitted pre {\n",
       "  /* unfitted */\n",
       "  background-color: var(--sklearn-color-fitted-level-0);\n",
       "}\n",
       "\n",
       "#sk-container-id-1 input.sk-toggleable__control:checked~div.sk-toggleable__content {\n",
       "  /* Expand drop-down */\n",
       "  max-height: 200px;\n",
       "  max-width: 100%;\n",
       "  overflow: auto;\n",
       "}\n",
       "\n",
       "#sk-container-id-1 input.sk-toggleable__control:checked~label.sk-toggleable__label-arrow:before {\n",
       "  content: \"▾\";\n",
       "}\n",
       "\n",
       "/* Pipeline/ColumnTransformer-specific style */\n",
       "\n",
       "#sk-container-id-1 div.sk-label input.sk-toggleable__control:checked~label.sk-toggleable__label {\n",
       "  color: var(--sklearn-color-text);\n",
       "  background-color: var(--sklearn-color-unfitted-level-2);\n",
       "}\n",
       "\n",
       "#sk-container-id-1 div.sk-label.fitted input.sk-toggleable__control:checked~label.sk-toggleable__label {\n",
       "  background-color: var(--sklearn-color-fitted-level-2);\n",
       "}\n",
       "\n",
       "/* Estimator-specific style */\n",
       "\n",
       "/* Colorize estimator box */\n",
       "#sk-container-id-1 div.sk-estimator input.sk-toggleable__control:checked~label.sk-toggleable__label {\n",
       "  /* unfitted */\n",
       "  background-color: var(--sklearn-color-unfitted-level-2);\n",
       "}\n",
       "\n",
       "#sk-container-id-1 div.sk-estimator.fitted input.sk-toggleable__control:checked~label.sk-toggleable__label {\n",
       "  /* fitted */\n",
       "  background-color: var(--sklearn-color-fitted-level-2);\n",
       "}\n",
       "\n",
       "#sk-container-id-1 div.sk-label label.sk-toggleable__label,\n",
       "#sk-container-id-1 div.sk-label label {\n",
       "  /* The background is the default theme color */\n",
       "  color: var(--sklearn-color-text-on-default-background);\n",
       "}\n",
       "\n",
       "/* On hover, darken the color of the background */\n",
       "#sk-container-id-1 div.sk-label:hover label.sk-toggleable__label {\n",
       "  color: var(--sklearn-color-text);\n",
       "  background-color: var(--sklearn-color-unfitted-level-2);\n",
       "}\n",
       "\n",
       "/* Label box, darken color on hover, fitted */\n",
       "#sk-container-id-1 div.sk-label.fitted:hover label.sk-toggleable__label.fitted {\n",
       "  color: var(--sklearn-color-text);\n",
       "  background-color: var(--sklearn-color-fitted-level-2);\n",
       "}\n",
       "\n",
       "/* Estimator label */\n",
       "\n",
       "#sk-container-id-1 div.sk-label label {\n",
       "  font-family: monospace;\n",
       "  font-weight: bold;\n",
       "  display: inline-block;\n",
       "  line-height: 1.2em;\n",
       "}\n",
       "\n",
       "#sk-container-id-1 div.sk-label-container {\n",
       "  text-align: center;\n",
       "}\n",
       "\n",
       "/* Estimator-specific */\n",
       "#sk-container-id-1 div.sk-estimator {\n",
       "  font-family: monospace;\n",
       "  border: 1px dotted var(--sklearn-color-border-box);\n",
       "  border-radius: 0.25em;\n",
       "  box-sizing: border-box;\n",
       "  margin-bottom: 0.5em;\n",
       "  /* unfitted */\n",
       "  background-color: var(--sklearn-color-unfitted-level-0);\n",
       "}\n",
       "\n",
       "#sk-container-id-1 div.sk-estimator.fitted {\n",
       "  /* fitted */\n",
       "  background-color: var(--sklearn-color-fitted-level-0);\n",
       "}\n",
       "\n",
       "/* on hover */\n",
       "#sk-container-id-1 div.sk-estimator:hover {\n",
       "  /* unfitted */\n",
       "  background-color: var(--sklearn-color-unfitted-level-2);\n",
       "}\n",
       "\n",
       "#sk-container-id-1 div.sk-estimator.fitted:hover {\n",
       "  /* fitted */\n",
       "  background-color: var(--sklearn-color-fitted-level-2);\n",
       "}\n",
       "\n",
       "/* Specification for estimator info (e.g. \"i\" and \"?\") */\n",
       "\n",
       "/* Common style for \"i\" and \"?\" */\n",
       "\n",
       ".sk-estimator-doc-link,\n",
       "a:link.sk-estimator-doc-link,\n",
       "a:visited.sk-estimator-doc-link {\n",
       "  float: right;\n",
       "  font-size: smaller;\n",
       "  line-height: 1em;\n",
       "  font-family: monospace;\n",
       "  background-color: var(--sklearn-color-background);\n",
       "  border-radius: 1em;\n",
       "  height: 1em;\n",
       "  width: 1em;\n",
       "  text-decoration: none !important;\n",
       "  margin-left: 1ex;\n",
       "  /* unfitted */\n",
       "  border: var(--sklearn-color-unfitted-level-1) 1pt solid;\n",
       "  color: var(--sklearn-color-unfitted-level-1);\n",
       "}\n",
       "\n",
       ".sk-estimator-doc-link.fitted,\n",
       "a:link.sk-estimator-doc-link.fitted,\n",
       "a:visited.sk-estimator-doc-link.fitted {\n",
       "  /* fitted */\n",
       "  border: var(--sklearn-color-fitted-level-1) 1pt solid;\n",
       "  color: var(--sklearn-color-fitted-level-1);\n",
       "}\n",
       "\n",
       "/* On hover */\n",
       "div.sk-estimator:hover .sk-estimator-doc-link:hover,\n",
       ".sk-estimator-doc-link:hover,\n",
       "div.sk-label-container:hover .sk-estimator-doc-link:hover,\n",
       ".sk-estimator-doc-link:hover {\n",
       "  /* unfitted */\n",
       "  background-color: var(--sklearn-color-unfitted-level-3);\n",
       "  color: var(--sklearn-color-background);\n",
       "  text-decoration: none;\n",
       "}\n",
       "\n",
       "div.sk-estimator.fitted:hover .sk-estimator-doc-link.fitted:hover,\n",
       ".sk-estimator-doc-link.fitted:hover,\n",
       "div.sk-label-container:hover .sk-estimator-doc-link.fitted:hover,\n",
       ".sk-estimator-doc-link.fitted:hover {\n",
       "  /* fitted */\n",
       "  background-color: var(--sklearn-color-fitted-level-3);\n",
       "  color: var(--sklearn-color-background);\n",
       "  text-decoration: none;\n",
       "}\n",
       "\n",
       "/* Span, style for the box shown on hovering the info icon */\n",
       ".sk-estimator-doc-link span {\n",
       "  display: none;\n",
       "  z-index: 9999;\n",
       "  position: relative;\n",
       "  font-weight: normal;\n",
       "  right: .2ex;\n",
       "  padding: .5ex;\n",
       "  margin: .5ex;\n",
       "  width: min-content;\n",
       "  min-width: 20ex;\n",
       "  max-width: 50ex;\n",
       "  color: var(--sklearn-color-text);\n",
       "  box-shadow: 2pt 2pt 4pt #999;\n",
       "  /* unfitted */\n",
       "  background: var(--sklearn-color-unfitted-level-0);\n",
       "  border: .5pt solid var(--sklearn-color-unfitted-level-3);\n",
       "}\n",
       "\n",
       ".sk-estimator-doc-link.fitted span {\n",
       "  /* fitted */\n",
       "  background: var(--sklearn-color-fitted-level-0);\n",
       "  border: var(--sklearn-color-fitted-level-3);\n",
       "}\n",
       "\n",
       ".sk-estimator-doc-link:hover span {\n",
       "  display: block;\n",
       "}\n",
       "\n",
       "/* \"?\"-specific style due to the `<a>` HTML tag */\n",
       "\n",
       "#sk-container-id-1 a.estimator_doc_link {\n",
       "  float: right;\n",
       "  font-size: 1rem;\n",
       "  line-height: 1em;\n",
       "  font-family: monospace;\n",
       "  background-color: var(--sklearn-color-background);\n",
       "  border-radius: 1rem;\n",
       "  height: 1rem;\n",
       "  width: 1rem;\n",
       "  text-decoration: none;\n",
       "  /* unfitted */\n",
       "  color: var(--sklearn-color-unfitted-level-1);\n",
       "  border: var(--sklearn-color-unfitted-level-1) 1pt solid;\n",
       "}\n",
       "\n",
       "#sk-container-id-1 a.estimator_doc_link.fitted {\n",
       "  /* fitted */\n",
       "  border: var(--sklearn-color-fitted-level-1) 1pt solid;\n",
       "  color: var(--sklearn-color-fitted-level-1);\n",
       "}\n",
       "\n",
       "/* On hover */\n",
       "#sk-container-id-1 a.estimator_doc_link:hover {\n",
       "  /* unfitted */\n",
       "  background-color: var(--sklearn-color-unfitted-level-3);\n",
       "  color: var(--sklearn-color-background);\n",
       "  text-decoration: none;\n",
       "}\n",
       "\n",
       "#sk-container-id-1 a.estimator_doc_link.fitted:hover {\n",
       "  /* fitted */\n",
       "  background-color: var(--sklearn-color-fitted-level-3);\n",
       "}\n",
       "</style><div id=\"sk-container-id-1\" class=\"sk-top-container\"><div class=\"sk-text-repr-fallback\"><pre>Pipeline(steps=[(&#x27;preprocessor&#x27;,\n",
       "                 ColumnTransformer(transformers=[(&#x27;num&#x27;,\n",
       "                                                  Pipeline(steps=[(&#x27;scaler&#x27;,\n",
       "                                                                   StandardScaler())]),\n",
       "                                                  [&#x27;BMI&#x27;, &#x27;glucose&#x27;,\n",
       "                                                   &#x27;glucose_tolerance&#x27;,\n",
       "                                                   &#x27;insulin&#x27;]),\n",
       "                                                 (&#x27;cat&#x27;,\n",
       "                                                  Pipeline(steps=[(&#x27;binenc&#x27;,\n",
       "                                                                   BinaryEncoder(key=[&#x27;gender&#x27;,\n",
       "                                                                                      &#x27;sport_weekly&#x27;,\n",
       "                                                                                      &#x27;diabetic&#x27;]))]),\n",
       "                                                  [&#x27;gender&#x27;, &#x27;sport_weekly&#x27;,\n",
       "                                                   &#x27;diabetic&#x27;])])),\n",
       "                (&#x27;classifier&#x27;, RandomForestClassifier(random_state=33))])</pre><b>In a Jupyter environment, please rerun this cell to show the HTML representation or trust the notebook. <br />On GitHub, the HTML representation is unable to render, please try loading this page with nbviewer.org.</b></div><div class=\"sk-container\" hidden><div class=\"sk-item sk-dashed-wrapped\"><div class=\"sk-label-container\"><div class=\"sk-label fitted sk-toggleable\"><input class=\"sk-toggleable__control sk-hidden--visually\" id=\"sk-estimator-id-1\" type=\"checkbox\" ><label for=\"sk-estimator-id-1\" class=\"sk-toggleable__label fitted sk-toggleable__label-arrow fitted\">&nbsp;&nbsp;Pipeline<a class=\"sk-estimator-doc-link fitted\" rel=\"noreferrer\" target=\"_blank\" href=\"https://scikit-learn.org/1.5/modules/generated/sklearn.pipeline.Pipeline.html\">?<span>Documentation for Pipeline</span></a><span class=\"sk-estimator-doc-link fitted\">i<span>Fitted</span></span></label><div class=\"sk-toggleable__content fitted\"><pre>Pipeline(steps=[(&#x27;preprocessor&#x27;,\n",
       "                 ColumnTransformer(transformers=[(&#x27;num&#x27;,\n",
       "                                                  Pipeline(steps=[(&#x27;scaler&#x27;,\n",
       "                                                                   StandardScaler())]),\n",
       "                                                  [&#x27;BMI&#x27;, &#x27;glucose&#x27;,\n",
       "                                                   &#x27;glucose_tolerance&#x27;,\n",
       "                                                   &#x27;insulin&#x27;]),\n",
       "                                                 (&#x27;cat&#x27;,\n",
       "                                                  Pipeline(steps=[(&#x27;binenc&#x27;,\n",
       "                                                                   BinaryEncoder(key=[&#x27;gender&#x27;,\n",
       "                                                                                      &#x27;sport_weekly&#x27;,\n",
       "                                                                                      &#x27;diabetic&#x27;]))]),\n",
       "                                                  [&#x27;gender&#x27;, &#x27;sport_weekly&#x27;,\n",
       "                                                   &#x27;diabetic&#x27;])])),\n",
       "                (&#x27;classifier&#x27;, RandomForestClassifier(random_state=33))])</pre></div> </div></div><div class=\"sk-serial\"><div class=\"sk-item sk-dashed-wrapped\"><div class=\"sk-label-container\"><div class=\"sk-label fitted sk-toggleable\"><input class=\"sk-toggleable__control sk-hidden--visually\" id=\"sk-estimator-id-2\" type=\"checkbox\" ><label for=\"sk-estimator-id-2\" class=\"sk-toggleable__label fitted sk-toggleable__label-arrow fitted\">&nbsp;preprocessor: ColumnTransformer<a class=\"sk-estimator-doc-link fitted\" rel=\"noreferrer\" target=\"_blank\" href=\"https://scikit-learn.org/1.5/modules/generated/sklearn.compose.ColumnTransformer.html\">?<span>Documentation for preprocessor: ColumnTransformer</span></a></label><div class=\"sk-toggleable__content fitted\"><pre>ColumnTransformer(transformers=[(&#x27;num&#x27;,\n",
       "                                 Pipeline(steps=[(&#x27;scaler&#x27;, StandardScaler())]),\n",
       "                                 [&#x27;BMI&#x27;, &#x27;glucose&#x27;, &#x27;glucose_tolerance&#x27;,\n",
       "                                  &#x27;insulin&#x27;]),\n",
       "                                (&#x27;cat&#x27;,\n",
       "                                 Pipeline(steps=[(&#x27;binenc&#x27;,\n",
       "                                                  BinaryEncoder(key=[&#x27;gender&#x27;,\n",
       "                                                                     &#x27;sport_weekly&#x27;,\n",
       "                                                                     &#x27;diabetic&#x27;]))]),\n",
       "                                 [&#x27;gender&#x27;, &#x27;sport_weekly&#x27;, &#x27;diabetic&#x27;])])</pre></div> </div></div><div class=\"sk-parallel\"><div class=\"sk-parallel-item\"><div class=\"sk-item\"><div class=\"sk-label-container\"><div class=\"sk-label fitted sk-toggleable\"><input class=\"sk-toggleable__control sk-hidden--visually\" id=\"sk-estimator-id-3\" type=\"checkbox\" ><label for=\"sk-estimator-id-3\" class=\"sk-toggleable__label fitted sk-toggleable__label-arrow fitted\">num</label><div class=\"sk-toggleable__content fitted\"><pre>[&#x27;BMI&#x27;, &#x27;glucose&#x27;, &#x27;glucose_tolerance&#x27;, &#x27;insulin&#x27;]</pre></div> </div></div><div class=\"sk-serial\"><div class=\"sk-item\"><div class=\"sk-serial\"><div class=\"sk-item\"><div class=\"sk-estimator fitted sk-toggleable\"><input class=\"sk-toggleable__control sk-hidden--visually\" id=\"sk-estimator-id-4\" type=\"checkbox\" ><label for=\"sk-estimator-id-4\" class=\"sk-toggleable__label fitted sk-toggleable__label-arrow fitted\">&nbsp;StandardScaler<a class=\"sk-estimator-doc-link fitted\" rel=\"noreferrer\" target=\"_blank\" href=\"https://scikit-learn.org/1.5/modules/generated/sklearn.preprocessing.StandardScaler.html\">?<span>Documentation for StandardScaler</span></a></label><div class=\"sk-toggleable__content fitted\"><pre>StandardScaler()</pre></div> </div></div></div></div></div></div></div><div class=\"sk-parallel-item\"><div class=\"sk-item\"><div class=\"sk-label-container\"><div class=\"sk-label fitted sk-toggleable\"><input class=\"sk-toggleable__control sk-hidden--visually\" id=\"sk-estimator-id-5\" type=\"checkbox\" ><label for=\"sk-estimator-id-5\" class=\"sk-toggleable__label fitted sk-toggleable__label-arrow fitted\">cat</label><div class=\"sk-toggleable__content fitted\"><pre>[&#x27;gender&#x27;, &#x27;sport_weekly&#x27;, &#x27;diabetic&#x27;]</pre></div> </div></div><div class=\"sk-serial\"><div class=\"sk-item\"><div class=\"sk-serial\"><div class=\"sk-item\"><div class=\"sk-estimator fitted sk-toggleable\"><input class=\"sk-toggleable__control sk-hidden--visually\" id=\"sk-estimator-id-6\" type=\"checkbox\" ><label for=\"sk-estimator-id-6\" class=\"sk-toggleable__label fitted sk-toggleable__label-arrow fitted\">BinaryEncoder</label><div class=\"sk-toggleable__content fitted\"><pre>BinaryEncoder(key=[&#x27;gender&#x27;, &#x27;sport_weekly&#x27;, &#x27;diabetic&#x27;])</pre></div> </div></div></div></div></div></div></div></div></div><div class=\"sk-item\"><div class=\"sk-estimator fitted sk-toggleable\"><input class=\"sk-toggleable__control sk-hidden--visually\" id=\"sk-estimator-id-7\" type=\"checkbox\" ><label for=\"sk-estimator-id-7\" class=\"sk-toggleable__label fitted sk-toggleable__label-arrow fitted\">&nbsp;RandomForestClassifier<a class=\"sk-estimator-doc-link fitted\" rel=\"noreferrer\" target=\"_blank\" href=\"https://scikit-learn.org/1.5/modules/generated/sklearn.ensemble.RandomForestClassifier.html\">?<span>Documentation for RandomForestClassifier</span></a></label><div class=\"sk-toggleable__content fitted\"><pre>RandomForestClassifier(random_state=33)</pre></div> </div></div></div></div></div></div>"
      ],
      "text/plain": [
       "Pipeline(steps=[('preprocessor',\n",
       "                 ColumnTransformer(transformers=[('num',\n",
       "                                                  Pipeline(steps=[('scaler',\n",
       "                                                                   StandardScaler())]),\n",
       "                                                  ['BMI', 'glucose',\n",
       "                                                   'glucose_tolerance',\n",
       "                                                   'insulin']),\n",
       "                                                 ('cat',\n",
       "                                                  Pipeline(steps=[('binenc',\n",
       "                                                                   BinaryEncoder(key=['gender',\n",
       "                                                                                      'sport_weekly',\n",
       "                                                                                      'diabetic']))]),\n",
       "                                                  ['gender', 'sport_weekly',\n",
       "                                                   'diabetic'])])),\n",
       "                ('classifier', RandomForestClassifier(random_state=33))])"
      ]
     },
     "execution_count": 19,
     "metadata": {},
     "output_type": "execute_result"
    }
   ],
   "source": [
    "%%time\n",
    "\n",
    "pipeline = Pipeline(steps=[\n",
    "    ('preprocessor', preprocessor),\n",
    "    ('classifier', RandomForestClassifier(random_state=33))\n",
    "])\n",
    "\n",
    "pipeline.fit(X_train, y_train)"
   ]
  },
  {
   "cell_type": "code",
   "execution_count": 20,
   "id": "1a2a3ec3-91d1-493d-89fb-e9abf43e264d",
   "metadata": {
    "colab": {
     "base_uri": "https://localhost:8080/"
    },
    "id": "1a2a3ec3-91d1-493d-89fb-e9abf43e264d",
    "outputId": "6370ea04-e9c3-41fd-f03e-ca505c18806a"
   },
   "outputs": [
    {
     "data": {
      "text/plain": [
       "[('preprocessor',\n",
       "  ColumnTransformer(transformers=[('num',\n",
       "                                   Pipeline(steps=[('scaler', StandardScaler())]),\n",
       "                                   ['BMI', 'glucose', 'glucose_tolerance',\n",
       "                                    'insulin']),\n",
       "                                  ('cat',\n",
       "                                   Pipeline(steps=[('binenc',\n",
       "                                                    BinaryEncoder(key=['gender',\n",
       "                                                                       'sport_weekly',\n",
       "                                                                       'diabetic']))]),\n",
       "                                   ['gender', 'sport_weekly', 'diabetic'])])),\n",
       " ('classifier', RandomForestClassifier(random_state=33))]"
      ]
     },
     "execution_count": 20,
     "metadata": {},
     "output_type": "execute_result"
    }
   ],
   "source": [
    "pipeline.steps"
   ]
  },
  {
   "cell_type": "code",
   "execution_count": 21,
   "id": "0e987361-7001-4a35-9564-ce9da74ff800",
   "metadata": {
    "colab": {
     "base_uri": "https://localhost:8080/"
    },
    "id": "0e987361-7001-4a35-9564-ce9da74ff800",
    "outputId": "df7ab6b4-e89d-43ee-9765-54b483b80c05"
   },
   "outputs": [],
   "source": [
    "y_pred = pipeline.predict(X_test)"
   ]
  },
  {
   "cell_type": "code",
   "execution_count": 22,
   "id": "b2e7c246-c3f2-4f3f-8511-7bcc67914141",
   "metadata": {
    "colab": {
     "base_uri": "https://localhost:8080/"
    },
    "id": "b2e7c246-c3f2-4f3f-8511-7bcc67914141",
    "outputId": "957d9158-b5ab-4cbb-ff1a-eadb3a35f51a"
   },
   "outputs": [
    {
     "name": "stdout",
     "output_type": "stream",
     "text": [
      "Точность: 0.80\n",
      "Полнота: 0.90\n",
      "F1-мера: 0.84\n"
     ]
    }
   ],
   "source": [
    "precision = precision_score(y_test, y_pred)\n",
    "recall = recall_score(y_test, y_pred)\n",
    "f1 = f1_score(y_test, y_pred)\n",
    "print(f\"Точность: {precision:.2f}\")\n",
    "print(f\"Полнота: {recall:.2f}\")\n",
    "print(f\"F1-мера: {f1:.2f}\")"
   ]
  },
  {
   "cell_type": "code",
   "execution_count": 23,
   "id": "cab71b33-44b1-454a-b7f3-97bb75b0fd8a",
   "metadata": {
    "colab": {
     "base_uri": "https://localhost:8080/"
    },
    "id": "cab71b33-44b1-454a-b7f3-97bb75b0fd8a",
    "outputId": "84772bc1-b365-4957-a199-8975831251e1"
   },
   "outputs": [],
   "source": [
    "preds = pipeline.predict_proba(X_test)"
   ]
  },
  {
   "cell_type": "code",
   "execution_count": 24,
   "id": "7ffb3cec-ca60-4f07-b72e-0ab572e06e77",
   "metadata": {
    "id": "7ffb3cec-ca60-4f07-b72e-0ab572e06e77"
   },
   "outputs": [],
   "source": [
    "precision, recall, thresholds = precision_recall_curve(y_test, preds[:, 1])"
   ]
  },
  {
   "cell_type": "code",
   "execution_count": 25,
   "id": "834c8455-4f20-4d06-8dd2-9ccd2ec834a2",
   "metadata": {
    "colab": {
     "base_uri": "https://localhost:8080/"
    },
    "id": "834c8455-4f20-4d06-8dd2-9ccd2ec834a2",
    "outputId": "8edf056b-9efe-4195-cbae-9f15bc55e4e4",
    "scrolled": true
   },
   "outputs": [
    {
     "data": {
      "text/plain": [
       "array([0.  , 0.01, 0.02, 0.03, 0.04, 0.05, 0.06, 0.07, 0.08, 0.09, 0.1 ,\n",
       "       0.11, 0.12, 0.13, 0.14, 0.15, 0.16, 0.17, 0.18, 0.19, 0.2 , 0.21,\n",
       "       0.22, 0.23, 0.24, 0.25, 0.26, 0.27, 0.28, 0.29, 0.3 , 0.31, 0.32,\n",
       "       0.33, 0.34, 0.35, 0.36, 0.37, 0.38, 0.39, 0.4 , 0.41, 0.42, 0.43,\n",
       "       0.44, 0.45, 0.46, 0.47, 0.48, 0.49, 0.5 , 0.51, 0.52, 0.53, 0.54,\n",
       "       0.55, 0.56, 0.57, 0.58, 0.59, 0.6 , 0.61, 0.62, 0.63, 0.64, 0.65,\n",
       "       0.66, 0.67, 0.68, 0.69, 0.7 , 0.71, 0.72, 0.73, 0.74, 0.75, 0.76,\n",
       "       0.77, 0.78, 0.79, 0.8 , 0.81, 0.82, 0.83, 0.84, 0.85, 0.86, 0.87,\n",
       "       0.88, 0.89, 0.9 , 0.91, 0.92, 0.93, 0.94, 0.95, 0.96, 0.97, 0.98,\n",
       "       0.99, 1.  ])"
      ]
     },
     "execution_count": 25,
     "metadata": {},
     "output_type": "execute_result"
    }
   ],
   "source": [
    "thresholds"
   ]
  },
  {
   "cell_type": "code",
   "execution_count": 26,
   "id": "4fe679cb-18a0-4730-8749-f28be21e79ce",
   "metadata": {
    "colab": {
     "base_uri": "https://localhost:8080/"
    },
    "id": "4fe679cb-18a0-4730-8749-f28be21e79ce",
    "outputId": "2c04979e-6614-479d-e667-c4251fbbddc8",
    "scrolled": true
   },
   "outputs": [
    {
     "data": {
      "text/plain": [
       "(array([0.49947753, 0.5       , 0.5047619 , 0.50909091, 0.51459459,\n",
       "        0.52078775, 0.52654867, 0.53724605, 0.54214123, 0.54587156,\n",
       "        0.55284553, 0.55934195, 0.56599287, 0.57211538, 0.57978076,\n",
       "        0.59057072, 0.59449312, 0.60355781, 0.61053985, 0.61688312,\n",
       "        0.62582345, 0.63333333, 0.64016173, 0.64842681, 0.65469613,\n",
       "        0.66108787, 0.66573034, 0.67283073, 0.67862267, 0.68459302,\n",
       "        0.69378698, 0.7027027 , 0.70481928, 0.71016692, 0.71559633,\n",
       "        0.72093023, 0.72161742, 0.72913386, 0.7392    , 0.747557  ,\n",
       "        0.75164474, 0.75959933, 0.76134454, 0.76360544, 0.76632302,\n",
       "        0.76856649, 0.7754386 , 0.77797513, 0.78519856, 0.79341865,\n",
       "        0.7948244 , 0.79850746, 0.80265655, 0.8065764 , 0.81782178,\n",
       "        0.8249497 , 0.83744856, 0.83991684, 0.84388186, 0.84913793,\n",
       "        0.85434783, 0.85714286, 0.86621315, 0.86866359, 0.87645688,\n",
       "        0.88207547, 0.89563107, 0.8962963 , 0.9028133 , 0.90649351,\n",
       "        0.91466667, 0.91553134, 0.91412742, 0.92067989, 0.92941176,\n",
       "        0.93251534, 0.94551282, 0.94771242, 0.95317726, 0.9550173 ,\n",
       "        0.95340502, 0.95149254, 0.953125  , 0.95102041, 0.94782609,\n",
       "        0.95305164, 0.95959596, 0.95652174, 0.96551724, 0.96987952,\n",
       "        0.96753247, 0.97101449, 0.97637795, 0.97457627, 1.        ,\n",
       "        1.        , 1.        , 1.        , 1.        , 1.        ,\n",
       "        1.        , 1.        ]),\n",
       " array([1.        , 1.        , 0.99790795, 0.9958159 , 0.9958159 ,\n",
       "        0.9958159 , 0.9958159 , 0.9958159 , 0.9958159 , 0.9958159 ,\n",
       "        0.9958159 , 0.9958159 , 0.9958159 , 0.9958159 , 0.9958159 ,\n",
       "        0.9958159 , 0.99372385, 0.99372385, 0.99372385, 0.99372385,\n",
       "        0.99372385, 0.99372385, 0.99372385, 0.9916318 , 0.9916318 ,\n",
       "        0.9916318 , 0.9916318 , 0.98953975, 0.98953975, 0.98535565,\n",
       "        0.98117155, 0.9790795 , 0.9790795 , 0.9790795 , 0.9790795 ,\n",
       "        0.97280335, 0.9707113 , 0.96861925, 0.9665272 , 0.96025105,\n",
       "        0.95606695, 0.95188285, 0.94769874, 0.93933054, 0.93305439,\n",
       "        0.93096234, 0.92468619, 0.91631799, 0.91004184, 0.90794979,\n",
       "        0.89958159, 0.89539749, 0.88493724, 0.87238494, 0.86401674,\n",
       "        0.85774059, 0.85146444, 0.84518828, 0.83682008, 0.82426778,\n",
       "        0.82217573, 0.81589958, 0.79916318, 0.78870293, 0.78661088,\n",
       "        0.78242678, 0.77196653, 0.75941423, 0.73849372, 0.73012552,\n",
       "        0.71757322, 0.70292887, 0.69037657, 0.67991632, 0.66108787,\n",
       "        0.63598326, 0.61715481, 0.60669456, 0.59623431, 0.57740586,\n",
       "        0.55648536, 0.5334728 , 0.51046025, 0.4874477 , 0.45606695,\n",
       "        0.42468619, 0.39748954, 0.36820084, 0.35146444, 0.33682008,\n",
       "        0.31171548, 0.28033473, 0.25941423, 0.24058577, 0.19246862,\n",
       "        0.16736402, 0.13389121, 0.09832636, 0.07740586, 0.04811715,\n",
       "        0.02301255, 0.        ]))"
      ]
     },
     "execution_count": 26,
     "metadata": {},
     "output_type": "execute_result"
    }
   ],
   "source": [
    "precision, recall"
   ]
  },
  {
   "cell_type": "code",
   "execution_count": 27,
   "id": "a046f59a-ab97-4fac-9cd5-2a5a5d8fa13b",
   "metadata": {
    "id": "a046f59a-ab97-4fac-9cd5-2a5a5d8fa13b"
   },
   "outputs": [],
   "source": [
    "precision = precision\n",
    "recall = recall\n",
    "\n",
    "table = pd.DataFrame({'thresholds': thresholds, 'precision': precision[:-1], 'recall': recall[:-1]})"
   ]
  },
  {
   "cell_type": "code",
   "execution_count": 28,
   "id": "3218dcfc-1e4b-47f7-9670-e8c8ce6244d9",
   "metadata": {
    "colab": {
     "base_uri": "https://localhost:8080/",
     "height": 53
    },
    "id": "3218dcfc-1e4b-47f7-9670-e8c8ce6244d9",
    "outputId": "8e70c3cd-5f4b-4980-b981-285b39a1538b"
   },
   "outputs": [
    {
     "data": {
      "text/html": [
       "<div>\n",
       "<style scoped>\n",
       "    .dataframe tbody tr th:only-of-type {\n",
       "        vertical-align: middle;\n",
       "    }\n",
       "\n",
       "    .dataframe tbody tr th {\n",
       "        vertical-align: top;\n",
       "    }\n",
       "\n",
       "    .dataframe thead th {\n",
       "        text-align: right;\n",
       "    }\n",
       "</style>\n",
       "<table border=\"1\" class=\"dataframe\">\n",
       "  <thead>\n",
       "    <tr style=\"text-align: right;\">\n",
       "      <th></th>\n",
       "      <th>thresholds</th>\n",
       "      <th>precision</th>\n",
       "      <th>recall</th>\n",
       "    </tr>\n",
       "  </thead>\n",
       "  <tbody>\n",
       "  </tbody>\n",
       "</table>\n",
       "</div>"
      ],
      "text/plain": [
       "Empty DataFrame\n",
       "Columns: [thresholds, precision, recall]\n",
       "Index: []"
      ]
     },
     "execution_count": 28,
     "metadata": {},
     "output_type": "execute_result"
    }
   ],
   "source": [
    "thresh=0.843\n",
    "table[(table['precision'] > thresh) & (table['recall'] > thresh)]"
   ]
  },
  {
   "cell_type": "code",
   "execution_count": 29,
   "id": "43b26ceb-a085-4738-9bf4-e40384a07778",
   "metadata": {
    "id": "43b26ceb-a085-4738-9bf4-e40384a07778"
   },
   "outputs": [],
   "source": [
    "threshold = 0.56"
   ]
  },
  {
   "cell_type": "code",
   "execution_count": 30,
   "id": "7fe0d3a8-4a8c-4f76-a6d1-472db0cc5c1d",
   "metadata": {
    "colab": {
     "base_uri": "https://localhost:8080/"
    },
    "id": "7fe0d3a8-4a8c-4f76-a6d1-472db0cc5c1d",
    "outputId": "3d1f9a9a-0afb-41a5-8ac6-de3d04368bb5"
   },
   "outputs": [],
   "source": [
    "preds = pipeline.predict_proba(X_test)[:, 1]"
   ]
  },
  {
   "cell_type": "code",
   "execution_count": 31,
   "id": "cf733222-5ab7-40b4-a53b-9c5aa3568ca3",
   "metadata": {
    "id": "cf733222-5ab7-40b4-a53b-9c5aa3568ca3"
   },
   "outputs": [],
   "source": [
    "y_pred = [1 if x > threshold else 0 for x in preds]"
   ]
  },
  {
   "cell_type": "code",
   "execution_count": 32,
   "id": "49db735e-5ce9-4a10-a44b-d3ecf187bb2d",
   "metadata": {
    "colab": {
     "base_uri": "https://localhost:8080/"
    },
    "id": "49db735e-5ce9-4a10-a44b-d3ecf187bb2d",
    "outputId": "8176e64b-2ffd-48ae-a153-c35a3da97c96"
   },
   "outputs": [
    {
     "name": "stdout",
     "output_type": "stream",
     "text": [
      "Точность: 0.84\n",
      "Полнота: 0.85\n",
      "F1-мера: 0.84\n"
     ]
    }
   ],
   "source": [
    "precision = precision_score(y_test, y_pred)\n",
    "recall = recall_score(y_test, y_pred)\n",
    "f1 = f1_score(y_test, y_pred)\n",
    "print(f\"Точность: {precision:.2f}\")\n",
    "print(f\"Полнота: {recall:.2f}\")\n",
    "print(f\"F1-мера: {f1:.2f}\")"
   ]
  },
  {
   "cell_type": "code",
   "execution_count": 33,
   "id": "d2c41c8b-edd5-42d3-b2da-9103150e5002",
   "metadata": {
    "id": "d2c41c8b-edd5-42d3-b2da-9103150e5002"
   },
   "outputs": [],
   "source": [
    "with open(\"pipeline.dill\", \"wb\") as f:\n",
    "    dill.dump(pipeline, f)"
   ]
  },
  {
   "cell_type": "code",
   "execution_count": null,
   "id": "7af34017-3cab-4d50-9897-f3a43b7446e1",
   "metadata": {
    "id": "7af34017-3cab-4d50-9897-f3a43b7446e1"
   },
   "outputs": [],
   "source": []
  }
 ],
 "metadata": {
  "colab": {
   "provenance": []
  },
  "kernelspec": {
   "display_name": "Python 3 (ipykernel)",
   "language": "python",
   "name": "python3"
  },
  "language_info": {
   "codemirror_mode": {
    "name": "ipython",
    "version": 3
   },
   "file_extension": ".py",
   "mimetype": "text/x-python",
   "name": "python",
   "nbconvert_exporter": "python",
   "pygments_lexer": "ipython3",
   "version": "3.11.9"
  }
 },
 "nbformat": 4,
 "nbformat_minor": 5
}
