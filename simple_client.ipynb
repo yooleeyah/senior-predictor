{
 "cells": [
  {
   "cell_type": "code",
   "execution_count": 1,
   "id": "986b088a-b705-477e-9d76-9db041345c2b",
   "metadata": {},
   "outputs": [],
   "source": [
    "import requests\n",
    "import urllib.request\n",
    "import json\n",
    "import pandas as pd"
   ]
  },
  {
   "cell_type": "code",
   "execution_count": 2,
   "id": "78f33731-cc44-49f9-a925-b428fc3263be",
   "metadata": {},
   "outputs": [],
   "source": [
    "data = (1.00, 2.00, 22.20, 95.00, 2.00, 89.00, 5.04)"
   ]
  },
  {
   "cell_type": "code",
   "execution_count": 3,
   "id": "7c1d36c9-445b-48f6-874f-8e723eb6f1a5",
   "metadata": {},
   "outputs": [],
   "source": [
    "def send_json(x):\n",
    "    gender, sport_weekly, BMI, glucose, diabetic, glucose_tolerance, insulin = x\n",
    "    body = {\"gender\": gender, \"sport_weekly\": sport_weekly, \"BMI\": BMI, \"glucose\": glucose, \n",
    "                                              \"diabetic\": diabetic, \"glucose_tolerance\": glucose_tolerance, \"insulin\": insulin}\n",
    "    myurl = \"http://127.0.0.1:5000/\" + \"predict\"\n",
    "    headers = {\"content-type\": \"application/json; charset=utf-8\"}\n",
    "    response = requests.post(myurl, json=body, headers=headers)\n",
    "    return response.json()['predictions']"
   ]
  },
  {
   "cell_type": "code",
   "execution_count": 4,
   "id": "d1d36322-27af-4156-a1d5-85842170527f",
   "metadata": {},
   "outputs": [
    {
     "name": "stdout",
     "output_type": "stream",
     "text": [
      "0.06\n"
     ]
    }
   ],
   "source": [
    "response = send_json(data)\n",
    "print(response)"
   ]
  },
  {
   "cell_type": "code",
   "execution_count": 5,
   "id": "cf4cfc33-1b6f-4bf4-aed1-0e564c865683",
   "metadata": {},
   "outputs": [],
   "source": [
    "X_test = pd.read_csv(\"X_test.csv\")\n",
    "y_test = pd.read_csv(\"y_test.csv\")"
   ]
  },
  {
   "cell_type": "code",
   "execution_count": 6,
   "id": "7117d2f9-b850-4137-947d-deb308ac3af5",
   "metadata": {},
   "outputs": [
    {
     "data": {
      "text/html": [
       "<div>\n",
       "<style scoped>\n",
       "    .dataframe tbody tr th:only-of-type {\n",
       "        vertical-align: middle;\n",
       "    }\n",
       "\n",
       "    .dataframe tbody tr th {\n",
       "        vertical-align: top;\n",
       "    }\n",
       "\n",
       "    .dataframe thead th {\n",
       "        text-align: right;\n",
       "    }\n",
       "</style>\n",
       "<table border=\"1\" class=\"dataframe\">\n",
       "  <thead>\n",
       "    <tr style=\"text-align: right;\">\n",
       "      <th></th>\n",
       "      <th>gender</th>\n",
       "      <th>sport_weekly</th>\n",
       "      <th>BMI</th>\n",
       "      <th>glucose</th>\n",
       "      <th>diabetic</th>\n",
       "      <th>glucose_tolerance</th>\n",
       "      <th>insulin</th>\n",
       "    </tr>\n",
       "  </thead>\n",
       "  <tbody>\n",
       "    <tr>\n",
       "      <th>3</th>\n",
       "      <td>2</td>\n",
       "      <td>2</td>\n",
       "      <td>30.700000</td>\n",
       "      <td>112</td>\n",
       "      <td>2</td>\n",
       "      <td>195</td>\n",
       "      <td>8.680000</td>\n",
       "    </tr>\n",
       "    <tr>\n",
       "      <th>10</th>\n",
       "      <td>1</td>\n",
       "      <td>2</td>\n",
       "      <td>28.996004</td>\n",
       "      <td>123</td>\n",
       "      <td>2</td>\n",
       "      <td>140</td>\n",
       "      <td>16.192429</td>\n",
       "    </tr>\n",
       "  </tbody>\n",
       "</table>\n",
       "</div>"
      ],
      "text/plain": [
       "    gender  sport_weekly        BMI  glucose  diabetic  glucose_tolerance  \\\n",
       "3        2             2  30.700000      112         2                195   \n",
       "10       1             2  28.996004      123         2                140   \n",
       "\n",
       "      insulin  \n",
       "3    8.680000  \n",
       "10  16.192429  "
      ]
     },
     "execution_count": 6,
     "metadata": {},
     "output_type": "execute_result"
    }
   ],
   "source": [
    "indexes = y_test[y_test.iloc[:, 0] == 1].index \n",
    "X_test.iloc[indexes].head(2)"
   ]
  },
  {
   "cell_type": "code",
   "execution_count": 7,
   "id": "011b84ee-0b85-4e14-8fb9-cb8f0752356c",
   "metadata": {},
   "outputs": [
    {
     "data": {
      "text/plain": [
       "0.89"
      ]
     },
     "execution_count": 7,
     "metadata": {},
     "output_type": "execute_result"
    }
   ],
   "source": [
    "response = send_json(X_test.iloc[10,:])\n",
    "response"
   ]
  }
 ],
 "metadata": {
  "kernelspec": {
   "display_name": "Python 3 (ipykernel)",
   "language": "python",
   "name": "python3"
  },
  "language_info": {
   "codemirror_mode": {
    "name": "ipython",
    "version": 3
   },
   "file_extension": ".py",
   "mimetype": "text/x-python",
   "name": "python",
   "nbconvert_exporter": "python",
   "pygments_lexer": "ipython3",
   "version": "3.11.9"
  }
 },
 "nbformat": 4,
 "nbformat_minor": 5
}
